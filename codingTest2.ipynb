{
  "nbformat": 4,
  "nbformat_minor": 0,
  "metadata": {
    "colab": {
      "name": "codingTest2.ipynb",
      "provenance": [],
      "collapsed_sections": [],
      "toc_visible": true
    },
    "kernelspec": {
      "name": "python3",
      "display_name": "Python 3"
    },
    "language_info": {
      "name": "python"
    }
  },
  "cells": [
    {
      "cell_type": "markdown",
      "source": [
        "\n",
        "코딩테스트 연습 > \n",
        "탐욕법(Greedy) > \n",
        "체육복\n"
      ],
      "metadata": {
        "id": "dZl63Axk3sbS"
      }
    },
    {
      "cell_type": "markdown",
      "source": [
        "인터넷에서 본 코드 "
      ],
      "metadata": {
        "id": "j-4bK30f1473"
      }
    },
    {
      "cell_type": "code",
      "execution_count": null,
      "metadata": {
        "id": "Uy0phWki1yYK"
      },
      "outputs": [],
      "source": [
        "def solution(n, lost, reserve):\n",
        "    _reserve = [r for r in reserve if r not in lost]\n",
        "    _lost = [l for l in lost if l not in reserve]\n",
        "    for r in _reserve:\n",
        "        f = r - 1\n",
        "        b = r + 1\n",
        "        if f in _lost:\n",
        "            _lost.remove(f)\n",
        "        elif b in _lost:\n",
        "            _lost.remove(b)\n",
        "    print(_lost)\n",
        "    return n - len(_lost)"
      ]
    },
    {
      "cell_type": "markdown",
      "source": [
        "안 되는 이유?"
      ],
      "metadata": {
        "id": "NgYQDEro1_WU"
      }
    },
    {
      "cell_type": "code",
      "source": [
        "solution(5,[1,2,3],[3,4,5])"
      ],
      "metadata": {
        "colab": {
          "base_uri": "https://localhost:8080/"
        },
        "id": "17Xlk2hf13_u",
        "outputId": "90e198f0-5172-46b4-c1d2-5d1c72e510cb"
      },
      "execution_count": null,
      "outputs": [
        {
          "output_type": "stream",
          "name": "stdout",
          "text": [
            "[1, 2]\n"
          ]
        },
        {
          "output_type": "execute_result",
          "data": {
            "text/plain": [
              "3"
            ]
          },
          "metadata": {},
          "execution_count": 10
        }
      ]
    },
    {
      "cell_type": "markdown",
      "source": [
        "18, 20번이 통과되지 않는다.."
      ],
      "metadata": {
        "id": "xig3nb3X2DOu"
      }
    },
    {
      "cell_type": "markdown",
      "source": [
        "아래의 소스코드에서 오름차순 과정이 없다면, 먼저 좌쯕체크 후 우측을 체크하는과정만을 거쳐 예외 케이스가 발생한다\n",
        "\n",
        " \n",
        "\n",
        "예를 들어 아래와 같은 상황이다\n",
        "\n",
        " \n",
        "\n",
        "n = 5\n",
        "\n",
        "lost = [2, 4], reserve = [3, 1]\n",
        "\n",
        " \n",
        "\n",
        "정상적인 상황이라면 1번 학생이 2번에게 3번 학생이 4번에게 빌려 줄 수 있으나, 정렬을 하지 않는다면 3번이 2번에게 빌려주어 4번 학생은 빌릴 수가 없게되므로 처음에 reserve를 정렬하는 과정이 필요하다\n",
        "\n",
        " \n",
        "\n",
        "(2021년 8월 30일 테스트케이스가 추가되었습니다. 에 해당하는 18, 20번 Test Case가 예외상황인 것 같다.)\n",
        "\n",
        " 출처 \n",
        "\n",
        "*   https://variety82p.tistory.com/entry/%ED%94%84%EB%A1%9C%EA%B7%B8%EB%9E%98%EB%A8%B8%EC%8A%A4%EC%B2%B4%EC%9C%A1%EB%B3%B5-%ED%8C%8C%EC%9D%B4%EC%8D%ACpython\n",
        "*   https://chancoding.tistory.com/216가\n",
        "\n"
      ],
      "metadata": {
        "id": "hf5masg-3eZo"
      }
    },
    {
      "cell_type": "code",
      "source": [
        "solution(5,[2,4],[3,1])"
      ],
      "metadata": {
        "colab": {
          "base_uri": "https://localhost:8080/"
        },
        "id": "QlB2J2l04JzY",
        "outputId": "8bca8568-d29e-4d69-b3ab-ec274e4f392c"
      },
      "execution_count": null,
      "outputs": [
        {
          "output_type": "stream",
          "name": "stdout",
          "text": [
            "[4]\n"
          ]
        },
        {
          "output_type": "execute_result",
          "data": {
            "text/plain": [
              "4"
            ]
          },
          "metadata": {},
          "execution_count": 11
        }
      ]
    },
    {
      "cell_type": "markdown",
      "source": [
        "정렬을 하지 않으면 해당 결과(오답)가 나온다"
      ],
      "metadata": {
        "id": "KHHHnNdI5tzP"
      }
    },
    {
      "cell_type": "code",
      "source": [
        "def solution(n, lost, reserve):\n",
        "    _reserve = [r for r in reserve if r not in lost]\n",
        "    _lost = [l for l in lost if l not in reserve]\n",
        "    _lost.sort()\n",
        "    _reserve.sort()\n",
        "    for r in _reserve:\n",
        "        f = r - 1\n",
        "        b = r + 1\n",
        "        if f in _lost:\n",
        "            _lost.remove(f)\n",
        "        elif b in _lost:\n",
        "            _lost.remove(b)\n",
        "    return n - len(_lost)"
      ],
      "metadata": {
        "id": "fdl4agiX4iD_"
      },
      "execution_count": null,
      "outputs": []
    },
    {
      "cell_type": "code",
      "source": [
        "solution(5,[2,4],[3,1])"
      ],
      "metadata": {
        "colab": {
          "base_uri": "https://localhost:8080/"
        },
        "id": "Cg7fdhIi6IW5",
        "outputId": "29eda7d5-6493-4628-ad28-639aff182ea8"
      },
      "execution_count": null,
      "outputs": [
        {
          "output_type": "execute_result",
          "data": {
            "text/plain": [
              "5"
            ]
          },
          "metadata": {},
          "execution_count": 32
        }
      ]
    },
    {
      "cell_type": "markdown",
      "source": [
        "위의 코드는 오류가 나지 않는데 아래 코드는 오류가 난다..."
      ],
      "metadata": {
        "id": "dgbEB_IJD_N2"
      }
    },
    {
      "cell_type": "code",
      "source": [
        "def solution(n, lost, reserve):\n",
        "    lostt = [l for l in lost if l not in reserve] #sorted\n",
        "    reservee = [r for r in reserve if r not in lost]\n",
        "    for r in reservee:\n",
        "        if r+1 in lostt:\n",
        "            lostt.remove(r+1)\n",
        "        elif r-1 in lostt:\n",
        "            lostt.remove(r-1)\n",
        "    return n - len(lostt)"
      ],
      "metadata": {
        "id": "AXDD0ILGCEAV"
      },
      "execution_count": null,
      "outputs": []
    },
    {
      "cell_type": "markdown",
      "source": [
        "list.sort() 함수를 써서 정렬"
      ],
      "metadata": {
        "id": "MgICYhRH8X22"
      }
    },
    {
      "cell_type": "code",
      "source": [
        "lost=[3,1,0,-3]\n",
        "reserve =[1]\n",
        "_reserve = [r for r in lost if r not in reserve]\n",
        "_reserve.sort()\n",
        "rsrv = _reserve.sort() #새로운 변수로 지정해주면 결과가 None 으로 나온다"
      ],
      "metadata": {
        "id": "WkOx1zn26KQd"
      },
      "execution_count": null,
      "outputs": []
    },
    {
      "cell_type": "code",
      "source": [
        "print(_reserve,rsrv) #목록 자체가 재정렬 되는 .sort()함수"
      ],
      "metadata": {
        "colab": {
          "base_uri": "https://localhost:8080/"
        },
        "id": "LPVOOZgG7Vcw",
        "outputId": "78d3ffd1-8c05-478e-ae68-22bc15d3baed"
      },
      "execution_count": null,
      "outputs": [
        {
          "output_type": "stream",
          "name": "stdout",
          "text": [
            "[-3, 0, 3] None\n"
          ]
        }
      ]
    },
    {
      "cell_type": "markdown",
      "source": [
        "sorted(list)"
      ],
      "metadata": {
        "id": "uxs0ZLGH9812"
      }
    },
    {
      "cell_type": "code",
      "source": [
        "lost=[3,1,0,-3]\n",
        "reserve =[1]\n",
        "_reserve = [r for r in lost if r not in reserve]\n",
        "sorted(_reserve)\n",
        "rsrv = sorted(_reserve)"
      ],
      "metadata": {
        "id": "CPKh_Hlj7gKl"
      },
      "execution_count": null,
      "outputs": []
    },
    {
      "cell_type": "code",
      "source": [
        "print(_reserve,rsrv)"
      ],
      "metadata": {
        "colab": {
          "base_uri": "https://localhost:8080/"
        },
        "id": "uoVkZrSc9pKf",
        "outputId": "e0c4b7c2-aa4e-49a6-b26b-3a1944cc0457"
      },
      "execution_count": null,
      "outputs": [
        {
          "output_type": "stream",
          "name": "stdout",
          "text": [
            "[3, 0, -3] [-3, 0, 3]\n"
          ]
        }
      ]
    },
    {
      "cell_type": "markdown",
      "source": [
        "K번째 수"
      ],
      "metadata": {
        "id": "4s8H2LTZagAK"
      }
    },
    {
      "cell_type": "markdown",
      "source": [
        "\n",
        "문제 설명\n",
        "배열 array의 i번째 숫자부터 j번째 숫자까지 자르고 정렬했을 때, k번째에 있는 수를 구하려 합니다.\n",
        "\n",
        "예를 들어 array가 [1, 5, 2, 6, 3, 7, 4], i = 2, j = 5, k = 3이라면\n",
        "\n",
        "array의 2번째부터 5번째까지 자르면 [5, 2, 6, 3]입니다.\n",
        "1에서 나온 배열을 정렬하면 [2, 3, 5, 6]입니다.\n",
        "2에서 나온 배열의 3번째 숫자는 5입니다.\n",
        "배열 array, [i, j, k]를 원소로 가진 2차원 배열 commands가 매개변수로 주어질 때, commands의 모든 원소에 대해 앞서 설명한 연산을 적용했을 때 나온 결과를 배열에 담아 return 하도록 solution 함수를 작성해주세요.\n",
        "\n",
        "제한사항\n",
        "array의 길이는 1 이상 100 이하입니다.\n",
        "array의 각 원소는 1 이상 100 이하입니다.\n",
        "commands의 길이는 1 이상 50 이하입니다.\n",
        "commands의 각 원소는 길이가 3입니다."
      ],
      "metadata": {
        "id": "Qqtc0nduaxTe"
      }
    },
    {
      "cell_type": "code",
      "source": [
        "def solution(array, commands):\n",
        "    answer = []\n",
        "    for c in commands:\n",
        "        i = c[0]-1\n",
        "        j = c[1]\n",
        "        k = c[2]-1\n",
        "        li = array[i:j]\n",
        "        answer.append(sorted(li)[k])\n",
        "    return answer"
      ],
      "metadata": {
        "id": "8KT-nU4p9rV0"
      },
      "execution_count": null,
      "outputs": []
    },
    {
      "cell_type": "markdown",
      "source": [
        ">>답을 참고하지 않고 풀었다 !"
      ],
      "metadata": {
        "id": "vGXaQSNwcsvl"
      }
    },
    {
      "cell_type": "code",
      "source": [
        "#람다함수\n",
        "def solution(array, commands):\n",
        "    return list(map(lambda x:sorted(array[x[0]-1:x[1]])[x[2]-1], commands))"
      ],
      "metadata": {
        "id": "rDeddIe5azD9"
      },
      "execution_count": null,
      "outputs": []
    }
  ]
}